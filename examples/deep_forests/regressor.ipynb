{
 "cells": [
  {
   "attachments": {},
   "cell_type": "markdown",
   "metadata": {},
   "source": [
    "# Regression example\n",
    "\n",
    "In this example we will create a regression Deep Forest. It will consist of two regressors: GBM and a random forest."
   ]
  },
  {
   "cell_type": "code",
   "execution_count": 1,
   "metadata": {},
   "outputs": [],
   "source": [
    "from bosk.executor.topological import TopologicalExecutor\n",
    "from bosk.pipeline.builder.functional import FunctionalPipelineBuilder\n",
    "from bosk.stages import Stage\n",
    "from sklearn.datasets import make_friedman1\n",
    "from sklearn.model_selection import train_test_split\n",
    "from sklearn.metrics import mean_squared_error\n",
    "\n",
    "n_estimators = 100\n",
    "random_state = 42"
   ]
  },
  {
   "cell_type": "code",
   "execution_count": 2,
   "metadata": {},
   "outputs": [
    {
     "name": "stdout",
     "output_type": "stream",
     "text": [
      "Train MSE: 0.010965590009033686\n",
      "Test MSE: 0.4845832612241044\n"
     ]
    }
   ],
   "source": [
    "# firstly we must obtain the functional builder object\n",
    "b = FunctionalPipelineBuilder()\n",
    "# we get blocks wrappers and connect with each other\n",
    "X, y = b.Input()(), b.TargetInput()()\n",
    "rf_1 = b.RFR(n_estimators=n_estimators)(X=X, y=y)\n",
    "cb_1 = b.CatBoostRegressor(num_trees=n_estimators, verbose=0)(X=X, y=y)\n",
    "rf_reshape = b.Reshape((-1, 1))(X=rf_1)\n",
    "cb_reshape = b.Reshape((-1, 1))(X=cb_1)\n",
    "concat_1 = b.Concat(['X', 'rf_1', 'cb_1'], axis=1)(X=X, rf_1=rf_reshape, cb_1=cb_reshape)\n",
    "rf_2 = b.RFR(n_estimators=n_estimators)(X=concat_1, y=y)\n",
    "cb_2 = b.CatBoostRegressor(num_trees=n_estimators, verbose=0)(X=concat_1, y=y)\n",
    "stack = b.Stack(['rf_2', 'cb_2'], axis=1)(rf_2=rf_2, cb_2=cb_2)\n",
    "average = b.Average(axis=1)(X=stack)\n",
    "# after defining the graph structure we obtain\n",
    "# the pipeline object from the builder\n",
    "pipeline = b.build(\n",
    "    {'X': X, 'y': y},\n",
    "    {'outcome': average}\n",
    ")\n",
    "\n",
    "# let's get some data\n",
    "# than train and test our pipeline\n",
    "all_X, all_y = make_friedman1(n_samples=1000, random_state=random_state)\n",
    "train_X, test_X, train_y, test_y = train_test_split(\n",
    "    all_X, all_y, test_size=0.2, random_state=random_state)\n",
    "# creating executors\n",
    "fit_executor = TopologicalExecutor(\n",
    "    pipeline,\n",
    "    stage=Stage.FIT,\n",
    "    inputs=['X', 'y'],\n",
    "    outputs=['outcome']\n",
    ")\n",
    "transform_executor = TopologicalExecutor(\n",
    "    pipeline,\n",
    "    stage=Stage.TRANSFORM,\n",
    "    inputs=['X'],\n",
    "    outputs=['outcome']\n",
    ")\n",
    "# executing our pipeline and obtaining metrics\n",
    "fit_result = fit_executor({'X': train_X, 'y': train_y}).numpy()\n",
    "print(\"Train MSE:\", mean_squared_error(train_y, fit_result['outcome']))\n",
    "test_result = transform_executor({'X': test_X}).numpy()\n",
    "print(\"Test MSE:\", mean_squared_error(test_y, test_result['outcome']))"
   ]
  }
 ],
 "metadata": {
  "kernelspec": {
   "display_name": "Python 3",
   "language": "python",
   "name": "python3"
  },
  "language_info": {
   "codemirror_mode": {
    "name": "ipython",
    "version": 3
   },
   "file_extension": ".py",
   "mimetype": "text/x-python",
   "name": "python",
   "nbconvert_exporter": "python",
   "pygments_lexer": "ipython3",
   "version": "3.10.6"
  },
  "orig_nbformat": 4
 },
 "nbformat": 4,
 "nbformat_minor": 2
}
