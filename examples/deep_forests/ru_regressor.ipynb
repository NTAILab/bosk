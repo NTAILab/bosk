{
 "cells": [
  {
   "attachments": {},
   "cell_type": "markdown",
   "metadata": {},
   "source": [
    "## Композиция регрессоров\n",
    "\n",
    "В этом примере мы создадим регрессионный Глубокий лес регрессии. Он будет состоять из двух моделей регрессии: градиентного бустинга и случайного леса."
   ]
  },
  {
   "cell_type": "code",
   "execution_count": 1,
   "metadata": {},
   "outputs": [],
   "source": [
    "from bosk.executor.topological import TopologicalExecutor\n",
    "from bosk.pipeline.builder.functional import FunctionalPipelineBuilder\n",
    "from bosk.stages import Stage\n",
    "from sklearn.datasets import make_friedman1\n",
    "from sklearn.model_selection import train_test_split\n",
    "from sklearn.metrics import mean_squared_error\n",
    "\n",
    "n_estimators = 100\n",
    "random_state = 42"
   ]
  },
  {
   "cell_type": "code",
   "execution_count": 2,
   "metadata": {},
   "outputs": [
    {
     "name": "stdout",
     "output_type": "stream",
     "text": [
      "Train MSE: 0.010965590009033686\n",
      "Test MSE: 0.4845832612241044\n"
     ]
    }
   ],
   "source": [
    "# создание объекта, конструирующего конвейер\n",
    "b = FunctionalPipelineBuilder()\n",
    "# создаем обертки блоков и соединяем их в граф\n",
    "X, y = b.Input()(), b.TargetInput()()\n",
    "rf_1 = b.RFR(n_estimators=n_estimators)(X=X, y=y)\n",
    "cb_1 = b.CatBoostRegressor(num_trees=n_estimators, verbose=0)(X=X, y=y)\n",
    "rf_reshape = b.Reshape((-1, 1))(X=rf_1)\n",
    "cb_reshape = b.Reshape((-1, 1))(X=cb_1)\n",
    "concat_1 = b.Concat(['X', 'rf_1', 'cb_1'], axis=1)(X=X, rf_1=rf_reshape, cb_1=cb_reshape)\n",
    "rf_2 = b.RFR(n_estimators=n_estimators)(X=concat_1, y=y)\n",
    "cb_2 = b.CatBoostRegressor(num_trees=n_estimators, verbose=0)(X=concat_1, y=y)\n",
    "stack = b.Stack(['rf_2', 'cb_2'], axis=1)(rf_2=rf_2, cb_2=cb_2)\n",
    "average = b.Average(axis=1)(X=stack)\n",
    "# после создания структуры графа\n",
    "# создаем конвейер\n",
    "pipeline = b.build(\n",
    "    {'X': X, 'y': y},\n",
    "    {'outcome': average}\n",
    ")\n",
    "\n",
    "# давайте сгенерируем данные\n",
    "# для обучения и тестирования Глубокого леса\n",
    "all_X, all_y = make_friedman1(n_samples=1000, random_state=random_state)\n",
    "train_X, test_X, train_y, test_y = train_test_split(\n",
    "    all_X, all_y, test_size=0.2, random_state=random_state)\n",
    "# создание исполнителей\n",
    "fit_executor = TopologicalExecutor(\n",
    "    pipeline,\n",
    "    stage=Stage.FIT,\n",
    "    inputs=['X', 'y'],\n",
    "    outputs=['outcome']\n",
    ")\n",
    "transform_executor = TopologicalExecutor(\n",
    "    pipeline,\n",
    "    stage=Stage.TRANSFORM,\n",
    "    inputs=['X'],\n",
    "    outputs=['outcome']\n",
    ")\n",
    "# выполнение нашего конвейера и вывод метрик\n",
    "fit_result = fit_executor({'X': train_X, 'y': train_y}).numpy()\n",
    "print(\"Train MSE:\", mean_squared_error(train_y, fit_result['outcome']))\n",
    "test_result = transform_executor({'X': test_X}).numpy()\n",
    "print(\"Test MSE:\", mean_squared_error(test_y, test_result['outcome']))"
   ]
  }
 ],
 "metadata": {
  "kernelspec": {
   "display_name": "Python 3",
   "language": "python",
   "name": "python3"
  },
  "language_info": {
   "codemirror_mode": {
    "name": "ipython",
    "version": 3
   },
   "file_extension": ".py",
   "mimetype": "text/x-python",
   "name": "python",
   "nbconvert_exporter": "python",
   "pygments_lexer": "ipython3",
   "version": "3.10.6"
  },
  "orig_nbformat": 4
 },
 "nbformat": 4,
 "nbformat_minor": 2
}
